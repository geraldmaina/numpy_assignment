{
 "cells": [
  {
   "cell_type": "code",
   "execution_count": 1,
   "id": "bb2fcfc9",
   "metadata": {},
   "outputs": [],
   "source": [
    "import numpy as np"
   ]
  },
  {
   "cell_type": "code",
   "execution_count": 5,
   "id": "6f3e67b9",
   "metadata": {},
   "outputs": [],
   "source": [
    "heights= np.array([160,155,172,165,180,158,175,163,173,171,168])\n"
   ]
  },
  {
   "cell_type": "code",
   "execution_count": 8,
   "id": "79271405",
   "metadata": {},
   "outputs": [
    {
     "name": "stdout",
     "output_type": "stream",
     "text": [
      "Mean height: 167.27272727272728\n",
      "Median height: 168.0\n",
      "Standard deviation of height: 7.411182080795934\n"
     ]
    }
   ],
   "source": [
    "mean_height=np.mean(heights)\n",
    "median_height=np.median(heights)\n",
    "std_dev_height=np.std(heights)\n",
    "print(\"Mean height:\",mean_height)\n",
    "print(\"Median height:\", median_height)\n",
    "print(\"Standard deviation of height:\",std_dev_height)"
   ]
  },
  {
   "cell_type": "code",
   "execution_count": 20,
   "id": "e04da905",
   "metadata": {},
   "outputs": [
    {
     "name": "stdout",
     "output_type": "stream",
     "text": [
      "Normalized heights: [-0.98131812 -1.65597433  0.63785678 -0.30666191  1.71730671 -1.2511806\n",
      "  1.0426505  -0.5765244   0.77278802  0.50292554  0.09813181]\n"
     ]
    }
   ],
   "source": [
    "normalised_heights=(heights-mean_height)/std_dev_height\n",
    "print(\"Normalized heights:\",normalised_heights)"
   ]
  },
  {
   "cell_type": "code",
   "execution_count": 23,
   "id": "b78110e5",
   "metadata": {},
   "outputs": [
    {
     "name": "stdout",
     "output_type": "stream",
     "text": [
      "Tallest student: 180\n",
      "Shortest student: 155\n"
     ]
    }
   ],
   "source": [
    "tallest_index=np.argmax(heights)\n",
    "shortest_index=np.argmin(heights)\n",
    "tallest_student=heights[tallest_index]\n",
    "shortest_student=heights[shortest_index]\n",
    "print(\"Tallest student:\",tallest_student)\n",
    "print(\"Shortest student:\",shortest_student)"
   ]
  },
  {
   "cell_type": "code",
   "execution_count": 24,
   "id": "d72c000b",
   "metadata": {},
   "outputs": [
    {
     "name": "stdout",
     "output_type": "stream",
     "text": [
      "Height difference: 25\n"
     ]
    }
   ],
   "source": [
    "height_difference=tallest_student-shortest_student\n",
    "print(\"Height difference:\",height_difference)"
   ]
  },
  {
   "cell_type": "code",
   "execution_count": 26,
   "id": "5c9507a5",
   "metadata": {},
   "outputs": [
    {
     "name": "stdout",
     "output_type": "stream",
     "text": [
      "Randomly selected heights: [171 155 172 173 165]\n"
     ]
    }
   ],
   "source": [
    "random_heights=np.random.choice(heights,size=5, replace=False)\n",
    "print(\"Randomly selected heights:\",random_heights)"
   ]
  },
  {
   "cell_type": "code",
   "execution_count": null,
   "id": "51a516a7",
   "metadata": {},
   "outputs": [],
   "source": []
  }
 ],
 "metadata": {
  "kernelspec": {
   "display_name": "Python 3 (ipykernel)",
   "language": "python",
   "name": "python3"
  },
  "language_info": {
   "codemirror_mode": {
    "name": "ipython",
    "version": 3
   },
   "file_extension": ".py",
   "mimetype": "text/x-python",
   "name": "python",
   "nbconvert_exporter": "python",
   "pygments_lexer": "ipython3",
   "version": "3.10.9"
  }
 },
 "nbformat": 4,
 "nbformat_minor": 5
}
